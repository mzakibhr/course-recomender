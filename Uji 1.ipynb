{
 "cells": [
  {
   "cell_type": "code",
   "execution_count": 4,
   "metadata": {
    "ExecuteTime": {
     "end_time": "2023-05-15T12:16:03.166583Z",
     "start_time": "2023-05-15T12:16:03.148390Z"
    },
    "id": "85QW9vB6_q9T"
   },
   "outputs": [],
   "source": [
    "import pandas as pd\n",
    "import numpy as np\n",
    "import matplotlib.pyplot as plt\n",
    "import seaborn as sns\n",
    "import warnings\n",
    "import plotly.express as px"
   ]
  },
  {
   "cell_type": "code",
   "execution_count": 5,
   "metadata": {
    "ExecuteTime": {
     "end_time": "2023-05-15T12:16:03.337461Z",
     "start_time": "2023-05-15T12:16:03.324315Z"
    },
    "colab": {
     "base_uri": "https://localhost:8080/"
    },
    "id": "GqhHlEtv7SDX",
    "outputId": "4813768a-5835-4e7e-e44f-0d8ef8a48112"
   },
   "outputs": [],
   "source": [
    "# from google.colab import drive\n",
    "# drive.mount('/content/drive')"
   ]
  },
  {
   "cell_type": "markdown",
   "metadata": {
    "id": "gC-h30jEyjV8"
   },
   "source": [
    "#Import Dataset"
   ]
  },
  {
   "cell_type": "code",
   "execution_count": 6,
   "metadata": {
    "ExecuteTime": {
     "end_time": "2023-05-15T12:16:04.890253Z",
     "start_time": "2023-05-15T12:16:04.782434Z"
    },
    "colab": {
     "base_uri": "https://localhost:8080/",
     "height": 424
    },
    "id": "XipxmeDz_qcK",
    "outputId": "07d4a399-5cbd-4bbc-8ddd-99b4c507d49e"
   },
   "outputs": [
    {
     "data": {
      "text/html": [
       "<div>\n",
       "<style scoped>\n",
       "    .dataframe tbody tr th:only-of-type {\n",
       "        vertical-align: middle;\n",
       "    }\n",
       "\n",
       "    .dataframe tbody tr th {\n",
       "        vertical-align: top;\n",
       "    }\n",
       "\n",
       "    .dataframe thead th {\n",
       "        text-align: right;\n",
       "    }\n",
       "</style>\n",
       "<table border=\"1\" class=\"dataframe\">\n",
       "  <thead>\n",
       "    <tr style=\"text-align: right;\">\n",
       "      <th></th>\n",
       "      <th>userId</th>\n",
       "      <th>courseId</th>\n",
       "      <th>course_name</th>\n",
       "      <th>rating</th>\n",
       "    </tr>\n",
       "  </thead>\n",
       "  <tbody>\n",
       "    <tr>\n",
       "      <th>0</th>\n",
       "      <td>21461</td>\n",
       "      <td>398</td>\n",
       "      <td>pap</td>\n",
       "      <td>5</td>\n",
       "    </tr>\n",
       "    <tr>\n",
       "      <th>1</th>\n",
       "      <td>31909</td>\n",
       "      <td>340</td>\n",
       "      <td>machine-learning-projects</td>\n",
       "      <td>5</td>\n",
       "    </tr>\n",
       "    <tr>\n",
       "      <th>2</th>\n",
       "      <td>36819</td>\n",
       "      <td>588</td>\n",
       "      <td>wind-energy</td>\n",
       "      <td>4</td>\n",
       "    </tr>\n",
       "    <tr>\n",
       "      <th>3</th>\n",
       "      <td>10995</td>\n",
       "      <td>372</td>\n",
       "      <td>music-business-foundations</td>\n",
       "      <td>5</td>\n",
       "    </tr>\n",
       "    <tr>\n",
       "      <th>4</th>\n",
       "      <td>22336</td>\n",
       "      <td>209</td>\n",
       "      <td>forensic-science</td>\n",
       "      <td>5</td>\n",
       "    </tr>\n",
       "    <tr>\n",
       "      <th>...</th>\n",
       "      <td>...</td>\n",
       "      <td>...</td>\n",
       "      <td>...</td>\n",
       "      <td>...</td>\n",
       "    </tr>\n",
       "    <tr>\n",
       "      <th>49995</th>\n",
       "      <td>35239</td>\n",
       "      <td>231</td>\n",
       "      <td>getting-started-with-essay-writing</td>\n",
       "      <td>5</td>\n",
       "    </tr>\n",
       "    <tr>\n",
       "      <th>49996</th>\n",
       "      <td>9936</td>\n",
       "      <td>186</td>\n",
       "      <td>excel-vba-for-creative-problem-solving-part-1</td>\n",
       "      <td>5</td>\n",
       "    </tr>\n",
       "    <tr>\n",
       "      <th>49997</th>\n",
       "      <td>10116</td>\n",
       "      <td>439</td>\n",
       "      <td>python</td>\n",
       "      <td>5</td>\n",
       "    </tr>\n",
       "    <tr>\n",
       "      <th>49998</th>\n",
       "      <td>7039</td>\n",
       "      <td>513</td>\n",
       "      <td>sustainability</td>\n",
       "      <td>5</td>\n",
       "    </tr>\n",
       "    <tr>\n",
       "      <th>49999</th>\n",
       "      <td>1378</td>\n",
       "      <td>387</td>\n",
       "      <td>norms</td>\n",
       "      <td>5</td>\n",
       "    </tr>\n",
       "  </tbody>\n",
       "</table>\n",
       "<p>50000 rows × 4 columns</p>\n",
       "</div>"
      ],
      "text/plain": [
       "       userId  courseId                                    course_name  rating\n",
       "0       21461       398                                            pap       5\n",
       "1       31909       340                      machine-learning-projects       5\n",
       "2       36819       588                                    wind-energy       4\n",
       "3       10995       372                     music-business-foundations       5\n",
       "4       22336       209                               forensic-science       5\n",
       "...       ...       ...                                            ...     ...\n",
       "49995   35239       231             getting-started-with-essay-writing       5\n",
       "49996    9936       186  excel-vba-for-creative-problem-solving-part-1       5\n",
       "49997   10116       439                                         python       5\n",
       "49998    7039       513                                 sustainability       5\n",
       "49999    1378       387                                          norms       5\n",
       "\n",
       "[50000 rows x 4 columns]"
      ]
     },
     "execution_count": 6,
     "metadata": {},
     "output_type": "execute_result"
    }
   ],
   "source": [
    "df = pd.read_csv('course_clean.csv')\n",
    "df"
   ]
  },
  {
   "cell_type": "code",
   "execution_count": 7,
   "metadata": {
    "ExecuteTime": {
     "end_time": "2023-05-15T12:16:05.771539Z",
     "start_time": "2023-05-15T12:16:05.711973Z"
    },
    "colab": {
     "base_uri": "https://localhost:8080/"
    },
    "id": "DhnGp3rMDB-E",
    "outputId": "f85ff69f-511f-48e5-ee3d-69ad00e7a4b0"
   },
   "outputs": [
    {
     "name": "stdout",
     "output_type": "stream",
     "text": [
      "<class 'pandas.core.frame.DataFrame'>\n",
      "RangeIndex: 50000 entries, 0 to 49999\n",
      "Data columns (total 4 columns):\n",
      " #   Column       Non-Null Count  Dtype \n",
      "---  ------       --------------  ----- \n",
      " 0   userId       50000 non-null  int64 \n",
      " 1   courseId     50000 non-null  int64 \n",
      " 2   course_name  50000 non-null  object\n",
      " 3   rating       50000 non-null  int64 \n",
      "dtypes: int64(3), object(1)\n",
      "memory usage: 1.5+ MB\n"
     ]
    }
   ],
   "source": [
    "df.info()"
   ]
  },
  {
   "cell_type": "code",
   "execution_count": 8,
   "metadata": {
    "ExecuteTime": {
     "end_time": "2023-05-15T12:16:06.038000Z",
     "start_time": "2023-05-15T12:16:06.027094Z"
    },
    "colab": {
     "base_uri": "https://localhost:8080/"
    },
    "id": "Wcn8U4R1VIl7",
    "outputId": "7b145bad-5360-46a0-c1fd-2cf9e76c7e72"
   },
   "outputs": [
    {
     "data": {
      "text/plain": [
       "(50000, 4)"
      ]
     },
     "execution_count": 8,
     "metadata": {},
     "output_type": "execute_result"
    }
   ],
   "source": [
    "df.shape"
   ]
  },
  {
   "cell_type": "code",
   "execution_count": 9,
   "metadata": {
    "ExecuteTime": {
     "end_time": "2023-05-15T12:16:06.287489Z",
     "start_time": "2023-05-15T12:16:06.247904Z"
    },
    "colab": {
     "base_uri": "https://localhost:8080/"
    },
    "id": "ONLjFdEZvEnB",
    "outputId": "ec4946cb-486a-4153-d598-92b9259d87ce"
   },
   "outputs": [
    {
     "data": {
      "text/plain": [
       "userId         40602\n",
       "courseId         595\n",
       "course_name      595\n",
       "rating             5\n",
       "dtype: int64"
      ]
     },
     "execution_count": 9,
     "metadata": {},
     "output_type": "execute_result"
    }
   ],
   "source": [
    "df.nunique()"
   ]
  },
  {
   "cell_type": "markdown",
   "metadata": {
    "id": "bQNCN69dJsxP"
   },
   "source": [
    "#Splitting Data"
   ]
  },
  {
   "cell_type": "code",
   "execution_count": 12,
   "metadata": {
    "ExecuteTime": {
     "end_time": "2023-05-15T12:16:10.666303Z",
     "start_time": "2023-05-15T12:16:09.972173Z"
    },
    "id": "UL9ISdnIJuJG"
   },
   "outputs": [],
   "source": [
    "from surprise import Reader\n",
    "from surprise import Dataset\n",
    "from surprise.model_selection import cross_validate\n",
    "from surprise import KNNBasic\n",
    "from surprise import KNNWithMeans\n",
    "from surprise import KNNWithZScore\n",
    "from surprise import KNNBaseline\n",
    "from surprise import SVD\n",
    "from surprise.accuracy import rmse\n",
    "from surprise import accuracy\n",
    "from surprise.model_selection import train_test_split\n",
    "from surprise.model_selection import GridSearchCV"
   ]
  },
  {
   "cell_type": "markdown",
   "metadata": {
    "id": "3gAh-j1_JyhU"
   },
   "source": [
    "#Pemodelan"
   ]
  },
  {
   "cell_type": "code",
   "execution_count": 13,
   "metadata": {
    "ExecuteTime": {
     "end_time": "2023-05-15T12:16:10.777915Z",
     "start_time": "2023-05-15T12:16:10.675310Z"
    },
    "id": "Kcl5QcreJ9kg"
   },
   "outputs": [],
   "source": [
    "reader = Reader(rating_scale=(1, 5))\n",
    "data = Dataset.load_from_df(df[['userId', 'courseId', 'rating']], reader)"
   ]
  },
  {
   "cell_type": "code",
   "execution_count": 14,
   "metadata": {
    "ExecuteTime": {
     "end_time": "2023-05-15T12:32:54.020227Z",
     "start_time": "2023-05-15T12:16:10.783919Z"
    },
    "colab": {
     "base_uri": "https://localhost:8080/"
    },
    "id": "z7EujsV4VtGM",
    "outputId": "e909653f-c3ae-4067-efd8-f200773e6a8e"
   },
   "outputs": [
    {
     "name": "stdout",
     "output_type": "stream",
     "text": [
      "Attempting:  [<surprise.prediction_algorithms.matrix_factorization.SVD object at 0x000001980306EAD0>, <surprise.prediction_algorithms.knns.KNNBasic object at 0x000001980306F700>] \n",
      "\n",
      "\n",
      "\n",
      "Starting:  <surprise.prediction_algorithms.matrix_factorization.SVD object at 0x000001980306EAD0>\n",
      "Evaluating RMSE of algorithm SVD on 5 split(s).\n",
      "\n",
      "                  Fold 1  Fold 2  Fold 3  Fold 4  Fold 5  Mean    Std     \n",
      "RMSE (testset)    0.6553  0.6637  0.6788  0.6769  0.6777  0.6704  0.0094  \n",
      "Fit time          1.17    1.19    1.12    1.22    1.34    1.21    0.07    \n",
      "Test time         0.13    0.12    0.10    0.11    0.12    0.12    0.01    \n",
      "Done:  <surprise.prediction_algorithms.matrix_factorization.SVD object at 0x000001980306EAD0> \n",
      "\n",
      "\n",
      "Starting:  <surprise.prediction_algorithms.knns.KNNBasic object at 0x000001980306F700>\n",
      "Computing the msd similarity matrix...\n"
     ]
    },
    {
     "name": "stderr",
     "output_type": "stream",
     "text": [
      "C:\\Users\\User\\AppData\\Local\\Temp\\ipykernel_27196\\3357014991.py:16: FutureWarning:\n",
      "\n",
      "The series.append method is deprecated and will be removed from pandas in a future version. Use pandas.concat instead.\n",
      "\n"
     ]
    },
    {
     "name": "stdout",
     "output_type": "stream",
     "text": [
      "Done computing similarity matrix.\n",
      "Computing the msd similarity matrix...\n",
      "Done computing similarity matrix.\n",
      "Computing the msd similarity matrix...\n",
      "Done computing similarity matrix.\n",
      "Computing the msd similarity matrix...\n",
      "Done computing similarity matrix.\n",
      "Computing the msd similarity matrix...\n",
      "Done computing similarity matrix.\n",
      "Evaluating RMSE of algorithm KNNBasic on 5 split(s).\n",
      "\n",
      "                  Fold 1  Fold 2  Fold 3  Fold 4  Fold 5  Mean    Std     \n",
      "RMSE (testset)    0.7046  0.6871  0.7040  0.6989  0.6991  0.6988  0.0063  \n",
      "Fit time          296.58  177.92  138.38  182.36  192.04  197.46  52.83   \n",
      "Test time         1.54    1.36    1.06    1.29    0.80    1.21    0.26    \n",
      "Done:  <surprise.prediction_algorithms.knns.KNNBasic object at 0x000001980306F700> \n",
      "\n",
      "\n",
      "\n",
      "\tDONE\n",
      "\n"
     ]
    },
    {
     "name": "stderr",
     "output_type": "stream",
     "text": [
      "C:\\Users\\User\\AppData\\Local\\Temp\\ipykernel_27196\\3357014991.py:16: FutureWarning:\n",
      "\n",
      "The series.append method is deprecated and will be removed from pandas in a future version. Use pandas.concat instead.\n",
      "\n"
     ]
    }
   ],
   "source": [
    "\"Uji 1\"\n",
    "benchmark = []\n",
    "# Iterate over all algorithms\n",
    "\n",
    "algorithms = [SVD(), KNNBasic()]\n",
    "\n",
    "print (\"Attempting: \", str(algorithms), '\\n\\n\\n')\n",
    "\n",
    "for algorithm in algorithms:\n",
    "    print(\"Starting: \" ,str(algorithm))\n",
    "    # Perform cross validation\n",
    "    results = cross_validate(algorithm, data, measures=['RMSE'], cv=5, verbose=True)\n",
    "    # results = cross_validate(algorithm, data, measures=['RMSE','MAE'], cv=3, verbose=False)\n",
    "    \n",
    "    # Get results & append algorithm name\n",
    "    tmp = pd.DataFrame.from_dict(results).mean(axis=0)\n",
    "    tmp = tmp.append(pd.Series([str(algorithm).split(' ')[0].split('.')[-1]], index=['Algorithm']))\n",
    "    benchmark.append(tmp)\n",
    "    print(\"Done: \" ,str(algorithm), \"\\n\\n\")\n",
    "\n",
    "print ('\\n\\tDONE\\n')"
   ]
  },
  {
   "cell_type": "code",
   "execution_count": 25,
   "metadata": {
    "ExecuteTime": {
     "end_time": "2023-05-15T12:44:38.069546Z",
     "start_time": "2023-05-15T12:44:38.057283Z"
    },
    "id": "AlXv7IWgV2ks"
   },
   "outputs": [
    {
     "data": {
      "text/html": [
       "<div>\n",
       "<style scoped>\n",
       "    .dataframe tbody tr th:only-of-type {\n",
       "        vertical-align: middle;\n",
       "    }\n",
       "\n",
       "    .dataframe tbody tr th {\n",
       "        vertical-align: top;\n",
       "    }\n",
       "\n",
       "    .dataframe thead th {\n",
       "        text-align: right;\n",
       "    }\n",
       "</style>\n",
       "<table border=\"1\" class=\"dataframe\">\n",
       "  <thead>\n",
       "    <tr style=\"text-align: right;\">\n",
       "      <th></th>\n",
       "      <th>test_rmse</th>\n",
       "      <th>fit_time</th>\n",
       "      <th>test_time</th>\n",
       "    </tr>\n",
       "    <tr>\n",
       "      <th>Algorithm</th>\n",
       "      <th></th>\n",
       "      <th></th>\n",
       "      <th></th>\n",
       "    </tr>\n",
       "  </thead>\n",
       "  <tbody>\n",
       "    <tr>\n",
       "      <th>SVD</th>\n",
       "      <td>0.670449</td>\n",
       "      <td>1.207985</td>\n",
       "      <td>0.115409</td>\n",
       "    </tr>\n",
       "    <tr>\n",
       "      <th>KNNBasic</th>\n",
       "      <td>0.698757</td>\n",
       "      <td>197.457516</td>\n",
       "      <td>1.211315</td>\n",
       "    </tr>\n",
       "  </tbody>\n",
       "</table>\n",
       "</div>"
      ],
      "text/plain": [
       "           test_rmse    fit_time  test_time\n",
       "Algorithm                                  \n",
       "SVD         0.670449    1.207985   0.115409\n",
       "KNNBasic    0.698757  197.457516   1.211315"
      ]
     },
     "execution_count": 25,
     "metadata": {},
     "output_type": "execute_result"
    }
   ],
   "source": [
    "results = pd.DataFrame(benchmark).set_index('Algorithm').sort_values('test_rmse')\n",
    "results"
   ]
  }
 ],
 "metadata": {
  "colab": {
   "provenance": []
  },
  "kernelspec": {
   "display_name": "Python 3 (ipykernel)",
   "language": "python",
   "name": "python3"
  },
  "language_info": {
   "codemirror_mode": {
    "name": "ipython",
    "version": 3
   },
   "file_extension": ".py",
   "mimetype": "text/x-python",
   "name": "python",
   "nbconvert_exporter": "python",
   "pygments_lexer": "ipython3",
   "version": "3.10.5"
  },
  "vscode": {
   "interpreter": {
    "hash": "26de051ba29f2982a8de78e945f0abaf191376122a1563185a90213a26c5da77"
   }
  }
 },
 "nbformat": 4,
 "nbformat_minor": 1
}
