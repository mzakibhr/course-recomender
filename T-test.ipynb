{
 "cells": [
  {
   "cell_type": "code",
   "execution_count": 1,
   "id": "2aa42a94",
   "metadata": {
    "ExecuteTime": {
     "end_time": "2023-05-15T17:33:03.979911Z",
     "start_time": "2023-05-15T17:33:03.965727Z"
    }
   },
   "outputs": [
    {
     "name": "stdout",
     "output_type": "stream",
     "text": [
      "SVD & kNN\n",
      "Nilai t-statistik: -60.613305397793\n",
      "Nilai p-value: 2.893051077252536e-22\n",
      "SVD & SlopeOne\n",
      "Nilai t-statistik: -98.07615275823578\n",
      "Nilai p-value: 5.1362230641528664e-26\n",
      "SVD & NMF\n",
      "Nilai t-statistik: -244.6150040066774\n",
      "Nilai p-value: 3.731771826630147e-33\n"
     ]
    }
   ],
   "source": [
    "#RMSE\n",
    "import scipy.stats as stats\n",
    "import numpy as np\n",
    "\n",
    "rmse_svd = np.array([0.670449, 0.670672, 0.670282, 0.670766, 0.670636, \n",
    "                     0.670464, 0.669242, 0.670220, 0.670188, 0.669351])\n",
    "rmse_kNN = np.array([0.698757, 0.698320, 0.697032, 0.698200, 0.700195,\n",
    "                     0.699996, 0.697254, 0.697471, 0.701268, 0.699141])\n",
    "rmse_SlopeOne = np.array([0.734598, 0.733105, 0.734405, 0.732689, 0.734400, \n",
    "                          0.738179, 0.736167, 0.731329, 0.736425, 0.733601])\n",
    "rmse_NMF = np.array([0.779154, 0.777477, 0.778562, 0.778630, 0.780353, \n",
    "                          0.777091, 0.777445, 0.780361, 0.779143, 0.780713])\n",
    "\n",
    "t_stat_knn, p_value_knn = stats.ttest_ind(rmse_svd, rmse_kNN) #SVD & KNN\n",
    "t_stat_slope, p_value_slope = stats.ttest_ind(rmse_svd, rmse_SlopeOne) #SVD & SlopeOne\n",
    "t_stat_nmf, p_value_nmf = stats.ttest_ind(rmse_svd, rmse_NMF) #SVD & NMF\n",
    "\n",
    "print(\"SVD & kNN\")\n",
    "print(\"Nilai t-statistik:\", t_stat_knn)\n",
    "print(\"Nilai p-value:\", p_value_knn)\n",
    "\n",
    "print(\"SVD & SlopeOne\")\n",
    "print(\"Nilai t-statistik:\", t_stat_slope)\n",
    "print(\"Nilai p-value:\", p_value_slope)\n",
    "\n",
    "print(\"SVD & NMF\")\n",
    "print(\"Nilai t-statistik:\", t_stat_nmf)\n",
    "print(\"Nilai p-value:\", p_value_nmf)"
   ]
  },
  {
   "cell_type": "code",
   "execution_count": 2,
   "id": "a56f3250",
   "metadata": {
    "ExecuteTime": {
     "end_time": "2023-05-15T17:33:01.313062Z",
     "start_time": "2023-05-15T17:33:01.297536Z"
    }
   },
   "outputs": [
    {
     "name": "stdout",
     "output_type": "stream",
     "text": [
      "SVD & kNN\n",
      "Nilai t-statistik: -5.754874719800084\n",
      "Nilai p-value: 1.8690280388534526e-05\n",
      "SVD & SlopeOne\n",
      "Nilai t-statistik: -98.07615275823578\n",
      "Nilai p-value: 5.1362230641528664e-26\n",
      "SVD & NMF\n",
      "Nilai t-statistik: 0.016994489271075865\n",
      "Nilai p-value: 0.9866279701696717\n"
     ]
    }
   ],
   "source": [
    "#Test Time\n",
    "import scipy.stats as stats\n",
    "import numpy as np\n",
    "\n",
    "testtime_svd = np.array([0.115409, 0.203116, 0.038143, 0.047371, 0.047690,\n",
    "                     0.058711, 0.063001, 0.059543, 0.058394, 0.059484])\n",
    "testtime_kNN = np.array([1.211315, 2.419648, 3.560220, 1.187533, 1.034255,\n",
    "                     1.110453, 1.172063, 1.289916, 1.407468, 1.131120])\n",
    "testtime_slop = np.array([0.089639, 0.312592, 0.086601, 0.088757, 0.085065,\n",
    "                         0.198418, 0.104145, 0.310758, 0.083712, 0.082710])\n",
    "testtime_nmf = np.array([0.088870, 0.077831, 0.060734, 0.060003, 0.067298, \n",
    "                          0.053492, 0.160968, 0.058758, 0.057355, 0.062381])\n",
    "\n",
    "t_stat_knn, p_value_knn = stats.ttest_ind(testtime_svd, testtime_kNN) #SVD & KNN\n",
    "t_stat_slop, p_value_slop = stats.ttest_ind(testtime_svd, testtime_slop) #SVD & SlopeOne\n",
    "t_stat_nmf, p_value_nmf = stats.ttest_ind(testtime_svd, testtime_nmf) #SVD & NMF\n",
    "\n",
    "print(\"SVD & kNN\")\n",
    "print(\"Nilai t-statistik:\", t_stat_knn)\n",
    "print(\"Nilai p-value:\", p_value_knn)\n",
    "\n",
    "print(\"SVD & SlopeOne\")\n",
    "print(\"Nilai t-statistik:\", t_stat_slope)\n",
    "print(\"Nilai p-value:\", p_value_slope)\n",
    "\n",
    "print(\"SVD & NMF\")\n",
    "print(\"Nilai t-statistik:\", t_stat_nmf)\n",
    "print(\"Nilai p-value:\", p_value_nmf)"
   ]
  },
  {
   "cell_type": "code",
   "execution_count": null,
   "id": "48dcb711",
   "metadata": {},
   "outputs": [],
   "source": []
  }
 ],
 "metadata": {
  "kernelspec": {
   "display_name": "Python 3 (ipykernel)",
   "language": "python",
   "name": "python3"
  },
  "language_info": {
   "codemirror_mode": {
    "name": "ipython",
    "version": 3
   },
   "file_extension": ".py",
   "mimetype": "text/x-python",
   "name": "python",
   "nbconvert_exporter": "python",
   "pygments_lexer": "ipython3",
   "version": "3.9.7"
  }
 },
 "nbformat": 4,
 "nbformat_minor": 5
}
