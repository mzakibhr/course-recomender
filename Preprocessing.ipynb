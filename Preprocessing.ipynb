{
 "cells": [
  {
   "cell_type": "code",
   "execution_count": 71,
   "metadata": {
    "id": "85QW9vB6_q9T"
   },
   "outputs": [],
   "source": [
    "import pandas as pd\n",
    "import numpy as np\n",
    "import matplotlib.pyplot as plt\n",
    "import seaborn as sns\n",
    "import warnings\n",
    "import plotly.express as px"
   ]
  },
  {
   "cell_type": "code",
   "execution_count": 72,
   "metadata": {
    "colab": {
     "base_uri": "https://localhost:8080/"
    },
    "id": "GqhHlEtv7SDX",
    "outputId": "4813768a-5835-4e7e-e44f-0d8ef8a48112"
   },
   "outputs": [],
   "source": [
    "# from google.colab import drive\n",
    "# drive.mount('/content/drive')"
   ]
  },
  {
   "cell_type": "markdown",
   "metadata": {
    "id": "gC-h30jEyjV8"
   },
   "source": [
    "#Import Dataset"
   ]
  },
  {
   "cell_type": "code",
   "execution_count": 73,
   "metadata": {
    "colab": {
     "base_uri": "https://localhost:8080/",
     "height": 424
    },
    "id": "XipxmeDz_qcK",
    "outputId": "07d4a399-5cbd-4bbc-8ddd-99b4c507d49e"
   },
   "outputs": [
    {
     "data": {
      "text/html": [
       "<div>\n",
       "<style scoped>\n",
       "    .dataframe tbody tr th:only-of-type {\n",
       "        vertical-align: middle;\n",
       "    }\n",
       "\n",
       "    .dataframe tbody tr th {\n",
       "        vertical-align: top;\n",
       "    }\n",
       "\n",
       "    .dataframe thead th {\n",
       "        text-align: right;\n",
       "    }\n",
       "</style>\n",
       "<table border=\"1\" class=\"dataframe\">\n",
       "  <thead>\n",
       "    <tr style=\"text-align: right;\">\n",
       "      <th></th>\n",
       "      <th>reviews</th>\n",
       "      <th>reviewers</th>\n",
       "      <th>date_reviews</th>\n",
       "      <th>rating</th>\n",
       "      <th>course_id</th>\n",
       "    </tr>\n",
       "  </thead>\n",
       "  <tbody>\n",
       "    <tr>\n",
       "      <th>0</th>\n",
       "      <td>Pretty dry, but I was able to pass with just t...</td>\n",
       "      <td>By Robert S</td>\n",
       "      <td>Feb 12, 2020</td>\n",
       "      <td>4</td>\n",
       "      <td>google-cbrs-cpi-training</td>\n",
       "    </tr>\n",
       "    <tr>\n",
       "      <th>1</th>\n",
       "      <td>would be a better experience if the video and ...</td>\n",
       "      <td>By Gabriel E R</td>\n",
       "      <td>Sep 28, 2020</td>\n",
       "      <td>4</td>\n",
       "      <td>google-cbrs-cpi-training</td>\n",
       "    </tr>\n",
       "    <tr>\n",
       "      <th>2</th>\n",
       "      <td>Information was perfect! The program itself wa...</td>\n",
       "      <td>By Jacob D</td>\n",
       "      <td>Apr 08, 2020</td>\n",
       "      <td>4</td>\n",
       "      <td>google-cbrs-cpi-training</td>\n",
       "    </tr>\n",
       "    <tr>\n",
       "      <th>3</th>\n",
       "      <td>A few grammatical mistakes on test made me do ...</td>\n",
       "      <td>By Dale B</td>\n",
       "      <td>Feb 24, 2020</td>\n",
       "      <td>4</td>\n",
       "      <td>google-cbrs-cpi-training</td>\n",
       "    </tr>\n",
       "    <tr>\n",
       "      <th>4</th>\n",
       "      <td>Excellent course and the training provided was...</td>\n",
       "      <td>By Sean G</td>\n",
       "      <td>Jun 18, 2020</td>\n",
       "      <td>4</td>\n",
       "      <td>google-cbrs-cpi-training</td>\n",
       "    </tr>\n",
       "    <tr>\n",
       "      <th>...</th>\n",
       "      <td>...</td>\n",
       "      <td>...</td>\n",
       "      <td>...</td>\n",
       "      <td>...</td>\n",
       "      <td>...</td>\n",
       "    </tr>\n",
       "    <tr>\n",
       "      <th>1454706</th>\n",
       "      <td>g</td>\n",
       "      <td>By Brijesh K</td>\n",
       "      <td>Aug 25, 2020</td>\n",
       "      <td>5</td>\n",
       "      <td>computer-networking</td>\n",
       "    </tr>\n",
       "    <tr>\n",
       "      <th>1454707</th>\n",
       "      <td>.</td>\n",
       "      <td>By Vasavi V M</td>\n",
       "      <td>Jul 02, 2020</td>\n",
       "      <td>5</td>\n",
       "      <td>computer-networking</td>\n",
       "    </tr>\n",
       "    <tr>\n",
       "      <th>1454708</th>\n",
       "      <td>.</td>\n",
       "      <td>By Drishti D</td>\n",
       "      <td>Jun 20, 2020</td>\n",
       "      <td>5</td>\n",
       "      <td>computer-networking</td>\n",
       "    </tr>\n",
       "    <tr>\n",
       "      <th>1454709</th>\n",
       "      <td>.</td>\n",
       "      <td>By FAUSTINE F K</td>\n",
       "      <td>Jun 07, 2020</td>\n",
       "      <td>5</td>\n",
       "      <td>computer-networking</td>\n",
       "    </tr>\n",
       "    <tr>\n",
       "      <th>1454710</th>\n",
       "      <td>G</td>\n",
       "      <td>By Reza S</td>\n",
       "      <td>Aug 12, 2018</td>\n",
       "      <td>5</td>\n",
       "      <td>computer-networking</td>\n",
       "    </tr>\n",
       "  </tbody>\n",
       "</table>\n",
       "<p>1454711 rows × 5 columns</p>\n",
       "</div>"
      ],
      "text/plain": [
       "                                                   reviews        reviewers  \\\n",
       "0        Pretty dry, but I was able to pass with just t...      By Robert S   \n",
       "1        would be a better experience if the video and ...   By Gabriel E R   \n",
       "2        Information was perfect! The program itself wa...       By Jacob D   \n",
       "3        A few grammatical mistakes on test made me do ...        By Dale B   \n",
       "4        Excellent course and the training provided was...        By Sean G   \n",
       "...                                                    ...              ...   \n",
       "1454706                                                  g     By Brijesh K   \n",
       "1454707                                                  .    By Vasavi V M   \n",
       "1454708                                                  .     By Drishti D   \n",
       "1454709                                                  .  By FAUSTINE F K   \n",
       "1454710                                                  G        By Reza S   \n",
       "\n",
       "         date_reviews  rating                 course_id  \n",
       "0        Feb 12, 2020       4  google-cbrs-cpi-training  \n",
       "1        Sep 28, 2020       4  google-cbrs-cpi-training  \n",
       "2        Apr 08, 2020       4  google-cbrs-cpi-training  \n",
       "3        Feb 24, 2020       4  google-cbrs-cpi-training  \n",
       "4        Jun 18, 2020       4  google-cbrs-cpi-training  \n",
       "...               ...     ...                       ...  \n",
       "1454706  Aug 25, 2020       5       computer-networking  \n",
       "1454707  Jul 02, 2020       5       computer-networking  \n",
       "1454708  Jun 20, 2020       5       computer-networking  \n",
       "1454709  Jun 07, 2020       5       computer-networking  \n",
       "1454710  Aug 12, 2018       5       computer-networking  \n",
       "\n",
       "[1454711 rows x 5 columns]"
      ]
     },
     "execution_count": 73,
     "metadata": {},
     "output_type": "execute_result"
    }
   ],
   "source": [
    "df_course = pd.read_csv('Coursera_reviews.csv')\n",
    "df_course"
   ]
  },
  {
   "cell_type": "markdown",
   "metadata": {
    "id": "Hp_Mx1OxyPfi"
   },
   "source": [
    "#Preprocessing"
   ]
  },
  {
   "cell_type": "code",
   "execution_count": 74,
   "metadata": {
    "colab": {
     "base_uri": "https://localhost:8080/"
    },
    "id": "DhnGp3rMDB-E",
    "outputId": "f85ff69f-511f-48e5-ee3d-69ad00e7a4b0"
   },
   "outputs": [
    {
     "name": "stdout",
     "output_type": "stream",
     "text": [
      "<class 'pandas.core.frame.DataFrame'>\n",
      "RangeIndex: 1454711 entries, 0 to 1454710\n",
      "Data columns (total 5 columns):\n",
      " #   Column        Non-Null Count    Dtype \n",
      "---  ------        --------------    ----- \n",
      " 0   reviews       1454571 non-null  object\n",
      " 1   reviewers     1454711 non-null  object\n",
      " 2   date_reviews  1454711 non-null  object\n",
      " 3   rating        1454711 non-null  int64 \n",
      " 4   course_id     1454711 non-null  object\n",
      "dtypes: int64(1), object(4)\n",
      "memory usage: 55.5+ MB\n"
     ]
    }
   ],
   "source": [
    "df_course.info()"
   ]
  },
  {
   "cell_type": "code",
   "execution_count": 75,
   "metadata": {
    "colab": {
     "base_uri": "https://localhost:8080/"
    },
    "id": "SqyDb7-_EALD",
    "outputId": "e58b261d-206c-48bd-f697-9fcd0430168d"
   },
   "outputs": [
    {
     "name": "stdout",
     "output_type": "stream",
     "text": [
      "By Deleted A     5412\n",
      "By Muhammad A     649\n",
      "By Abhishek S     440\n",
      "By David M        435\n",
      "By Michael S      431\n",
      "                 ... \n",
      "By Calvin N         1\n",
      "By Kachan O V       1\n",
      "By Tan S X A        1\n",
      "By Yusong S         1\n",
      "By Yu-Jhen-Wu       1\n",
      "Name: reviewers, Length: 287808, dtype: int64\n"
     ]
    }
   ],
   "source": [
    "print(df_course.reviewers.value_counts())"
   ]
  },
  {
   "cell_type": "code",
   "execution_count": 76,
   "metadata": {
    "id": "EV6wsGFZu-Lh"
   },
   "outputs": [],
   "source": [
    "df_course = df_course[df_course.reviewers != \"By Deleted A\"]"
   ]
  },
  {
   "cell_type": "code",
   "execution_count": 77,
   "metadata": {
    "colab": {
     "base_uri": "https://localhost:8080/"
    },
    "id": "Wcn8U4R1VIl7",
    "outputId": "7b145bad-5360-46a0-c1fd-2cf9e76c7e72"
   },
   "outputs": [
    {
     "data": {
      "text/plain": [
       "(1449299, 5)"
      ]
     },
     "execution_count": 77,
     "metadata": {},
     "output_type": "execute_result"
    }
   ],
   "source": [
    "df_course.shape"
   ]
  },
  {
   "cell_type": "code",
   "execution_count": 78,
   "metadata": {
    "id": "gTWS4CRQqSji"
   },
   "outputs": [],
   "source": [
    "df_course = df_course.sample(50000, replace=True)"
   ]
  },
  {
   "cell_type": "code",
   "execution_count": 79,
   "metadata": {
    "colab": {
     "base_uri": "https://localhost:8080/"
    },
    "id": "Vz00P_Qiqr6k",
    "outputId": "2b6799fd-261d-401b-c4ab-a8ea34f3f82b"
   },
   "outputs": [
    {
     "name": "stdout",
     "output_type": "stream",
     "text": [
      "<class 'pandas.core.frame.DataFrame'>\n",
      "Int64Index: 50000 entries, 386430 to 1086967\n",
      "Data columns (total 5 columns):\n",
      " #   Column        Non-Null Count  Dtype \n",
      "---  ------        --------------  ----- \n",
      " 0   reviews       49998 non-null  object\n",
      " 1   reviewers     50000 non-null  object\n",
      " 2   date_reviews  50000 non-null  object\n",
      " 3   rating        50000 non-null  int64 \n",
      " 4   course_id     50000 non-null  object\n",
      "dtypes: int64(1), object(4)\n",
      "memory usage: 2.3+ MB\n"
     ]
    }
   ],
   "source": [
    "df_course.info()"
   ]
  },
  {
   "cell_type": "code",
   "execution_count": 80,
   "metadata": {
    "id": "LJ7qLtm2qtQV"
   },
   "outputs": [],
   "source": [
    "df_course = df_course.drop('reviews', axis=1)"
   ]
  },
  {
   "cell_type": "code",
   "execution_count": 81,
   "metadata": {
    "colab": {
     "base_uri": "https://localhost:8080/"
    },
    "id": "1woBjctFsdoL",
    "outputId": "e13449a9-87d9-4130-a6dd-9984726f9377"
   },
   "outputs": [
    {
     "name": "stdout",
     "output_type": "stream",
     "text": [
      "<class 'pandas.core.frame.DataFrame'>\n",
      "Int64Index: 50000 entries, 386430 to 1086967\n",
      "Data columns (total 4 columns):\n",
      " #   Column        Non-Null Count  Dtype \n",
      "---  ------        --------------  ----- \n",
      " 0   reviewers     50000 non-null  object\n",
      " 1   date_reviews  50000 non-null  object\n",
      " 2   rating        50000 non-null  int64 \n",
      " 3   course_id     50000 non-null  object\n",
      "dtypes: int64(1), object(3)\n",
      "memory usage: 1.9+ MB\n"
     ]
    }
   ],
   "source": [
    "df_course.info()"
   ]
  },
  {
   "cell_type": "code",
   "execution_count": 82,
   "metadata": {
    "colab": {
     "base_uri": "https://localhost:8080/"
    },
    "id": "4zx_rIBltJGu",
    "outputId": "d79c43ee-6214-4d82-ad21-5965a977fc2c"
   },
   "outputs": [
    {
     "name": "stdout",
     "output_type": "stream",
     "text": [
      "By David B        21\n",
      "By Michael M      18\n",
      "By David S        17\n",
      "By Muhammad A     17\n",
      "By Mohammad A     16\n",
      "                  ..\n",
      "By Anthony C A     1\n",
      "By Эрмека К        1\n",
      "By Dr. M D N       1\n",
      "By Zhang S         1\n",
      "By Agnetha C S     1\n",
      "Name: reviewers, Length: 40602, dtype: int64\n"
     ]
    }
   ],
   "source": [
    "print(df_course.reviewers.value_counts())"
   ]
  },
  {
   "cell_type": "code",
   "execution_count": 83,
   "metadata": {
    "colab": {
     "base_uri": "https://localhost:8080/"
    },
    "id": "ONLjFdEZvEnB",
    "outputId": "ec4946cb-486a-4153-d598-92b9259d87ce"
   },
   "outputs": [
    {
     "data": {
      "text/plain": [
       "reviewers       40602\n",
       "date_reviews     1889\n",
       "rating              5\n",
       "course_id         595\n",
       "dtype: int64"
      ]
     },
     "execution_count": 83,
     "metadata": {},
     "output_type": "execute_result"
    }
   ],
   "source": [
    "df_course.nunique()"
   ]
  },
  {
   "cell_type": "code",
   "execution_count": 84,
   "metadata": {
    "colab": {
     "base_uri": "https://localhost:8080/"
    },
    "id": "RSrh3DsCGjZ7",
    "outputId": "e920f8e8-2125-4036-aea6-4e9f9d33a86f"
   },
   "outputs": [
    {
     "name": "stdout",
     "output_type": "stream",
     "text": [
      "<class 'pandas.core.frame.DataFrame'>\n",
      "Int64Index: 50000 entries, 386430 to 1086967\n",
      "Data columns (total 6 columns):\n",
      " #   Column        Non-Null Count  Dtype \n",
      "---  ------        --------------  ----- \n",
      " 0   reviewers     50000 non-null  object\n",
      " 1   date_reviews  50000 non-null  object\n",
      " 2   rating        50000 non-null  int64 \n",
      " 3   course_id     50000 non-null  object\n",
      " 4   userId        50000 non-null  int32 \n",
      " 5   courseId      50000 non-null  int32 \n",
      "dtypes: int32(2), int64(1), object(3)\n",
      "memory usage: 2.3+ MB\n"
     ]
    }
   ],
   "source": [
    "#Label Encoding\n",
    "from sklearn import preprocessing\n",
    "label_encoder = preprocessing.LabelEncoder()\n",
    "\n",
    "df_course['userId']= label_encoder.fit_transform(df_course['reviewers'])\n",
    "df_course['courseId']= label_encoder.fit_transform(df_course['course_id'])\n",
    "df_course.info()"
   ]
  },
  {
   "cell_type": "code",
   "execution_count": 85,
   "metadata": {},
   "outputs": [],
   "source": [
    "df_course.rename(columns = {'course_id':'course_name'}, inplace = True)"
   ]
  },
  {
   "cell_type": "code",
   "execution_count": 86,
   "metadata": {
    "id": "LChLeFCtHYLE"
   },
   "outputs": [],
   "source": [
    "#Clean yang siap dimasukkan ke model\n",
    "df = df_course[[\"userId\", \"courseId\", \"course_name\", \"rating\"]]"
   ]
  },
  {
   "cell_type": "code",
   "execution_count": 87,
   "metadata": {
    "colab": {
     "base_uri": "https://localhost:8080/"
    },
    "id": "cP0eMK0nH8dH",
    "outputId": "56a2e17c-c994-4f4a-cd24-ae5d99b619db"
   },
   "outputs": [
    {
     "name": "stdout",
     "output_type": "stream",
     "text": [
      "<class 'pandas.core.frame.DataFrame'>\n",
      "Int64Index: 50000 entries, 386430 to 1086967\n",
      "Data columns (total 4 columns):\n",
      " #   Column       Non-Null Count  Dtype \n",
      "---  ------       --------------  ----- \n",
      " 0   userId       50000 non-null  int32 \n",
      " 1   courseId     50000 non-null  int32 \n",
      " 2   course_name  50000 non-null  object\n",
      " 3   rating       50000 non-null  int64 \n",
      "dtypes: int32(2), int64(1), object(1)\n",
      "memory usage: 1.5+ MB\n"
     ]
    }
   ],
   "source": [
    "df.info()"
   ]
  },
  {
   "cell_type": "code",
   "execution_count": 88,
   "metadata": {
    "colab": {
     "base_uri": "https://localhost:8080/"
    },
    "id": "S16t_eywH-wF",
    "outputId": "77792b99-cc82-42ae-a185-d0ab09e4a1c5"
   },
   "outputs": [
    {
     "data": {
      "text/plain": [
       "userId         40602\n",
       "courseId         595\n",
       "course_name      595\n",
       "rating             5\n",
       "dtype: int64"
      ]
     },
     "execution_count": 88,
     "metadata": {},
     "output_type": "execute_result"
    }
   ],
   "source": [
    "df.nunique()"
   ]
  },
  {
   "cell_type": "code",
   "execution_count": 89,
   "metadata": {
    "colab": {
     "base_uri": "https://localhost:8080/",
     "height": 206
    },
    "id": "rkZHyiczIKtd",
    "outputId": "5ef50fcc-6927-4db9-9e6d-d5f3fc6eda74"
   },
   "outputs": [
    {
     "data": {
      "text/html": [
       "<div>\n",
       "<style scoped>\n",
       "    .dataframe tbody tr th:only-of-type {\n",
       "        vertical-align: middle;\n",
       "    }\n",
       "\n",
       "    .dataframe tbody tr th {\n",
       "        vertical-align: top;\n",
       "    }\n",
       "\n",
       "    .dataframe thead th {\n",
       "        text-align: right;\n",
       "    }\n",
       "</style>\n",
       "<table border=\"1\" class=\"dataframe\">\n",
       "  <thead>\n",
       "    <tr style=\"text-align: right;\">\n",
       "      <th></th>\n",
       "      <th>userId</th>\n",
       "      <th>courseId</th>\n",
       "      <th>course_name</th>\n",
       "      <th>rating</th>\n",
       "    </tr>\n",
       "  </thead>\n",
       "  <tbody>\n",
       "    <tr>\n",
       "      <th>386430</th>\n",
       "      <td>21461</td>\n",
       "      <td>398</td>\n",
       "      <td>pap</td>\n",
       "      <td>5</td>\n",
       "    </tr>\n",
       "    <tr>\n",
       "      <th>525926</th>\n",
       "      <td>31909</td>\n",
       "      <td>340</td>\n",
       "      <td>machine-learning-projects</td>\n",
       "      <td>5</td>\n",
       "    </tr>\n",
       "    <tr>\n",
       "      <th>626002</th>\n",
       "      <td>36819</td>\n",
       "      <td>588</td>\n",
       "      <td>wind-energy</td>\n",
       "      <td>4</td>\n",
       "    </tr>\n",
       "    <tr>\n",
       "      <th>1311513</th>\n",
       "      <td>10995</td>\n",
       "      <td>372</td>\n",
       "      <td>music-business-foundations</td>\n",
       "      <td>5</td>\n",
       "    </tr>\n",
       "    <tr>\n",
       "      <th>917874</th>\n",
       "      <td>22336</td>\n",
       "      <td>209</td>\n",
       "      <td>forensic-science</td>\n",
       "      <td>5</td>\n",
       "    </tr>\n",
       "  </tbody>\n",
       "</table>\n",
       "</div>"
      ],
      "text/plain": [
       "         userId  courseId                 course_name  rating\n",
       "386430    21461       398                         pap       5\n",
       "525926    31909       340   machine-learning-projects       5\n",
       "626002    36819       588                 wind-energy       4\n",
       "1311513   10995       372  music-business-foundations       5\n",
       "917874    22336       209            forensic-science       5"
      ]
     },
     "execution_count": 89,
     "metadata": {},
     "output_type": "execute_result"
    }
   ],
   "source": [
    "df.head()"
   ]
  },
  {
   "cell_type": "code",
   "execution_count": 90,
   "metadata": {},
   "outputs": [],
   "source": [
    "df.to_csv('course_clean.csv', index=False)"
   ]
  }
 ],
 "metadata": {
  "colab": {
   "provenance": []
  },
  "kernelspec": {
   "display_name": "Python 3 (ipykernel)",
   "language": "python",
   "name": "python3"
  },
  "language_info": {
   "codemirror_mode": {
    "name": "ipython",
    "version": 3
   },
   "file_extension": ".py",
   "mimetype": "text/x-python",
   "name": "python",
   "nbconvert_exporter": "python",
   "pygments_lexer": "ipython3",
   "version": "3.10.5"
  }
 },
 "nbformat": 4,
 "nbformat_minor": 1
}
