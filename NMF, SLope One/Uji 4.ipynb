{
 "cells": [
  {
   "cell_type": "code",
   "execution_count": 1,
   "metadata": {
    "ExecuteTime": {
     "end_time": "2023-05-15T14:33:26.929624Z",
     "start_time": "2023-05-15T14:33:24.616064Z"
    },
    "id": "85QW9vB6_q9T"
   },
   "outputs": [],
   "source": [
    "import pandas as pd\n",
    "import numpy as np\n",
    "import matplotlib.pyplot as plt\n",
    "import seaborn as sns\n",
    "import warnings\n",
    "import plotly.express as px"
   ]
  },
  {
   "cell_type": "code",
   "execution_count": 2,
   "metadata": {
    "ExecuteTime": {
     "end_time": "2023-05-15T14:33:26.939096Z",
     "start_time": "2023-05-15T14:33:26.929624Z"
    },
    "colab": {
     "base_uri": "https://localhost:8080/"
    },
    "id": "GqhHlEtv7SDX",
    "outputId": "4813768a-5835-4e7e-e44f-0d8ef8a48112"
   },
   "outputs": [],
   "source": [
    "# from google.colab import drive\n",
    "# drive.mount('/content/drive')"
   ]
  },
  {
   "cell_type": "markdown",
   "metadata": {
    "id": "gC-h30jEyjV8"
   },
   "source": [
    "#Import Dataset"
   ]
  },
  {
   "cell_type": "code",
   "execution_count": 3,
   "metadata": {
    "ExecuteTime": {
     "end_time": "2023-05-15T14:33:27.062688Z",
     "start_time": "2023-05-15T14:33:26.939096Z"
    },
    "colab": {
     "base_uri": "https://localhost:8080/",
     "height": 424
    },
    "id": "XipxmeDz_qcK",
    "outputId": "07d4a399-5cbd-4bbc-8ddd-99b4c507d49e"
   },
   "outputs": [
    {
     "data": {
      "text/html": [
       "<div>\n",
       "<style scoped>\n",
       "    .dataframe tbody tr th:only-of-type {\n",
       "        vertical-align: middle;\n",
       "    }\n",
       "\n",
       "    .dataframe tbody tr th {\n",
       "        vertical-align: top;\n",
       "    }\n",
       "\n",
       "    .dataframe thead th {\n",
       "        text-align: right;\n",
       "    }\n",
       "</style>\n",
       "<table border=\"1\" class=\"dataframe\">\n",
       "  <thead>\n",
       "    <tr style=\"text-align: right;\">\n",
       "      <th></th>\n",
       "      <th>userId</th>\n",
       "      <th>courseId</th>\n",
       "      <th>course_name</th>\n",
       "      <th>rating</th>\n",
       "    </tr>\n",
       "  </thead>\n",
       "  <tbody>\n",
       "    <tr>\n",
       "      <th>0</th>\n",
       "      <td>21461</td>\n",
       "      <td>398</td>\n",
       "      <td>pap</td>\n",
       "      <td>5</td>\n",
       "    </tr>\n",
       "    <tr>\n",
       "      <th>1</th>\n",
       "      <td>31909</td>\n",
       "      <td>340</td>\n",
       "      <td>machine-learning-projects</td>\n",
       "      <td>5</td>\n",
       "    </tr>\n",
       "    <tr>\n",
       "      <th>2</th>\n",
       "      <td>36819</td>\n",
       "      <td>588</td>\n",
       "      <td>wind-energy</td>\n",
       "      <td>4</td>\n",
       "    </tr>\n",
       "    <tr>\n",
       "      <th>3</th>\n",
       "      <td>10995</td>\n",
       "      <td>372</td>\n",
       "      <td>music-business-foundations</td>\n",
       "      <td>5</td>\n",
       "    </tr>\n",
       "    <tr>\n",
       "      <th>4</th>\n",
       "      <td>22336</td>\n",
       "      <td>209</td>\n",
       "      <td>forensic-science</td>\n",
       "      <td>5</td>\n",
       "    </tr>\n",
       "    <tr>\n",
       "      <th>...</th>\n",
       "      <td>...</td>\n",
       "      <td>...</td>\n",
       "      <td>...</td>\n",
       "      <td>...</td>\n",
       "    </tr>\n",
       "    <tr>\n",
       "      <th>49995</th>\n",
       "      <td>35239</td>\n",
       "      <td>231</td>\n",
       "      <td>getting-started-with-essay-writing</td>\n",
       "      <td>5</td>\n",
       "    </tr>\n",
       "    <tr>\n",
       "      <th>49996</th>\n",
       "      <td>9936</td>\n",
       "      <td>186</td>\n",
       "      <td>excel-vba-for-creative-problem-solving-part-1</td>\n",
       "      <td>5</td>\n",
       "    </tr>\n",
       "    <tr>\n",
       "      <th>49997</th>\n",
       "      <td>10116</td>\n",
       "      <td>439</td>\n",
       "      <td>python</td>\n",
       "      <td>5</td>\n",
       "    </tr>\n",
       "    <tr>\n",
       "      <th>49998</th>\n",
       "      <td>7039</td>\n",
       "      <td>513</td>\n",
       "      <td>sustainability</td>\n",
       "      <td>5</td>\n",
       "    </tr>\n",
       "    <tr>\n",
       "      <th>49999</th>\n",
       "      <td>1378</td>\n",
       "      <td>387</td>\n",
       "      <td>norms</td>\n",
       "      <td>5</td>\n",
       "    </tr>\n",
       "  </tbody>\n",
       "</table>\n",
       "<p>50000 rows × 4 columns</p>\n",
       "</div>"
      ],
      "text/plain": [
       "       userId  courseId                                    course_name  rating\n",
       "0       21461       398                                            pap       5\n",
       "1       31909       340                      machine-learning-projects       5\n",
       "2       36819       588                                    wind-energy       4\n",
       "3       10995       372                     music-business-foundations       5\n",
       "4       22336       209                               forensic-science       5\n",
       "...       ...       ...                                            ...     ...\n",
       "49995   35239       231             getting-started-with-essay-writing       5\n",
       "49996    9936       186  excel-vba-for-creative-problem-solving-part-1       5\n",
       "49997   10116       439                                         python       5\n",
       "49998    7039       513                                 sustainability       5\n",
       "49999    1378       387                                          norms       5\n",
       "\n",
       "[50000 rows x 4 columns]"
      ]
     },
     "execution_count": 3,
     "metadata": {},
     "output_type": "execute_result"
    }
   ],
   "source": [
    "df = pd.read_csv('course_clean.csv')\n",
    "df"
   ]
  },
  {
   "cell_type": "code",
   "execution_count": 4,
   "metadata": {
    "ExecuteTime": {
     "end_time": "2023-05-15T14:33:27.096194Z",
     "start_time": "2023-05-15T14:33:27.062688Z"
    },
    "colab": {
     "base_uri": "https://localhost:8080/"
    },
    "id": "DhnGp3rMDB-E",
    "outputId": "f85ff69f-511f-48e5-ee3d-69ad00e7a4b0"
   },
   "outputs": [
    {
     "name": "stdout",
     "output_type": "stream",
     "text": [
      "<class 'pandas.core.frame.DataFrame'>\n",
      "RangeIndex: 50000 entries, 0 to 49999\n",
      "Data columns (total 4 columns):\n",
      " #   Column       Non-Null Count  Dtype \n",
      "---  ------       --------------  ----- \n",
      " 0   userId       50000 non-null  int64 \n",
      " 1   courseId     50000 non-null  int64 \n",
      " 2   course_name  50000 non-null  object\n",
      " 3   rating       50000 non-null  int64 \n",
      "dtypes: int64(3), object(1)\n",
      "memory usage: 1.5+ MB\n"
     ]
    }
   ],
   "source": [
    "df.info()"
   ]
  },
  {
   "cell_type": "code",
   "execution_count": 5,
   "metadata": {
    "ExecuteTime": {
     "end_time": "2023-05-15T14:33:27.109769Z",
     "start_time": "2023-05-15T14:33:27.096194Z"
    },
    "colab": {
     "base_uri": "https://localhost:8080/"
    },
    "id": "Wcn8U4R1VIl7",
    "outputId": "7b145bad-5360-46a0-c1fd-2cf9e76c7e72"
   },
   "outputs": [
    {
     "data": {
      "text/plain": [
       "(50000, 4)"
      ]
     },
     "execution_count": 5,
     "metadata": {},
     "output_type": "execute_result"
    }
   ],
   "source": [
    "df.shape"
   ]
  },
  {
   "cell_type": "code",
   "execution_count": 6,
   "metadata": {
    "ExecuteTime": {
     "end_time": "2023-05-15T14:33:27.820074Z",
     "start_time": "2023-05-15T14:33:27.802601Z"
    },
    "colab": {
     "base_uri": "https://localhost:8080/"
    },
    "id": "ONLjFdEZvEnB",
    "outputId": "ec4946cb-486a-4153-d598-92b9259d87ce"
   },
   "outputs": [
    {
     "data": {
      "text/plain": [
       "userId         40602\n",
       "courseId         595\n",
       "course_name      595\n",
       "rating             5\n",
       "dtype: int64"
      ]
     },
     "execution_count": 6,
     "metadata": {},
     "output_type": "execute_result"
    }
   ],
   "source": [
    "df.nunique()"
   ]
  },
  {
   "cell_type": "markdown",
   "metadata": {
    "id": "bQNCN69dJsxP"
   },
   "source": [
    "#Splitting Data"
   ]
  },
  {
   "cell_type": "code",
   "execution_count": 7,
   "metadata": {
    "ExecuteTime": {
     "end_time": "2023-05-15T14:33:30.081687Z",
     "start_time": "2023-05-15T14:33:29.976261Z"
    },
    "id": "UL9ISdnIJuJG"
   },
   "outputs": [],
   "source": [
    "from surprise import Reader\n",
    "from surprise import Dataset\n",
    "from surprise.model_selection import cross_validate\n",
    "from surprise import KNNBasic\n",
    "from surprise import KNNWithMeans\n",
    "from surprise import KNNWithZScore\n",
    "from surprise import KNNBaseline\n",
    "from surprise import NMF\n",
    "from surprise import SlopeOne\n",
    "from surprise import SVD\n",
    "from surprise.accuracy import rmse\n",
    "from surprise import accuracy\n",
    "from surprise.model_selection import train_test_split\n",
    "from surprise.model_selection import GridSearchCV"
   ]
  },
  {
   "cell_type": "markdown",
   "metadata": {
    "id": "3gAh-j1_JyhU"
   },
   "source": [
    "#Pemodelan"
   ]
  },
  {
   "cell_type": "code",
   "execution_count": 8,
   "metadata": {
    "ExecuteTime": {
     "end_time": "2023-05-15T14:33:38.594392Z",
     "start_time": "2023-05-15T14:33:38.496404Z"
    },
    "id": "Kcl5QcreJ9kg"
   },
   "outputs": [],
   "source": [
    "reader = Reader(rating_scale=(1, 5))\n",
    "data = Dataset.load_from_df(df[['userId', 'courseId', 'rating']], reader)"
   ]
  },
  {
   "cell_type": "code",
   "execution_count": 9,
   "metadata": {
    "ExecuteTime": {
     "end_time": "2023-05-15T14:38:19.397113Z",
     "start_time": "2023-05-15T14:33:39.049844Z"
    },
    "colab": {
     "base_uri": "https://localhost:8080/"
    },
    "id": "z7EujsV4VtGM",
    "outputId": "e909653f-c3ae-4067-efd8-f200773e6a8e"
   },
   "outputs": [
    {
     "name": "stdout",
     "output_type": "stream",
     "text": [
      "Attempting:  [<surprise.prediction_algorithms.matrix_factorization.NMF object at 0x0000017ECCB02FA0>, <surprise.prediction_algorithms.slope_one.SlopeOne object at 0x0000017ECCB02EB0>] \n",
      "\n",
      "\n",
      "\n",
      "Starting:  <surprise.prediction_algorithms.matrix_factorization.NMF object at 0x0000017ECCB02FA0>\n",
      "Evaluating RMSE of algorithm NMF on 5 split(s).\n",
      "\n",
      "                  Fold 1  Fold 2  Fold 3  Fold 4  Fold 5  Mean    Std     \n",
      "RMSE (testset)    0.7729  0.7931  0.7531  0.7935  0.7805  0.7786  0.0149  \n",
      "Fit time          2.52    2.54    2.66    2.67    2.64    2.61    0.06    \n",
      "Test time         0.06    0.06    0.06    0.06    0.06    0.06    0.00    \n",
      "Done:  <surprise.prediction_algorithms.matrix_factorization.NMF object at 0x0000017ECCB02FA0> \n",
      "\n",
      "\n",
      "Starting:  <surprise.prediction_algorithms.slope_one.SlopeOne object at 0x0000017ECCB02EB0>\n"
     ]
    },
    {
     "name": "stderr",
     "output_type": "stream",
     "text": [
      "C:\\Users\\User\\AppData\\Local\\Temp\\ipykernel_21968\\3034307215.py:17: FutureWarning: The series.append method is deprecated and will be removed from pandas in a future version. Use pandas.concat instead.\n",
      "  tmp = tmp.append(pd.Series([str(algorithm).split(' ')[0].split('.')[-1]], index=['Algorithm']))\n"
     ]
    },
    {
     "name": "stdout",
     "output_type": "stream",
     "text": [
      "Evaluating RMSE of algorithm SlopeOne on 5 split(s).\n",
      "\n",
      "                  Fold 1  Fold 2  Fold 3  Fold 4  Fold 5  Mean    Std     \n",
      "RMSE (testset)    0.7197  0.7328  0.7245  0.7334  0.7530  0.7327  0.0114  \n",
      "Fit time          0.33    0.35    0.34    0.33    0.32    0.33    0.01    \n",
      "Test time         0.09    0.08    0.11    0.08    0.09    0.09    0.01    \n",
      "Done:  <surprise.prediction_algorithms.slope_one.SlopeOne object at 0x0000017ECCB02EB0> \n",
      "\n",
      "\n",
      "\n",
      "\tDONE\n",
      "\n"
     ]
    },
    {
     "name": "stderr",
     "output_type": "stream",
     "text": [
      "C:\\Users\\User\\AppData\\Local\\Temp\\ipykernel_21968\\3034307215.py:17: FutureWarning: The series.append method is deprecated and will be removed from pandas in a future version. Use pandas.concat instead.\n",
      "  tmp = tmp.append(pd.Series([str(algorithm).split(' ')[0].split('.')[-1]], index=['Algorithm']))\n"
     ]
    }
   ],
   "source": [
    "\"Uji 4\"\n",
    "benchmark = []\n",
    "# Iterate over all algorithms\n",
    "\n",
    "algorithms = [NMF(), SlopeOne()]\n",
    "\n",
    "print (\"Attempting: \", str(algorithms), '\\n\\n\\n')\n",
    "\n",
    "for algorithm in algorithms:\n",
    "    print(\"Starting: \" ,str(algorithm))\n",
    "    # Perform cross validation\n",
    "    results = cross_validate(algorithm, data, measures=['RMSE'], cv=5, verbose=True)\n",
    "    # results = cross_validate(algorithm, data, measures=['RMSE','MAE'], cv=3, verbose=False)\n",
    "    \n",
    "    # Get results & append algorithm name\n",
    "    tmp = pd.DataFrame.from_dict(results).mean(axis=0)\n",
    "    tmp = tmp.append(pd.Series([str(algorithm).split(' ')[0].split('.')[-1]], index=['Algorithm']))\n",
    "    benchmark.append(tmp)\n",
    "    print(\"Done: \" ,str(algorithm), \"\\n\\n\")\n",
    "\n",
    "print ('\\n\\tDONE\\n')"
   ]
  },
  {
   "cell_type": "code",
   "execution_count": 10,
   "metadata": {
    "ExecuteTime": {
     "end_time": "2023-05-15T14:38:19.508809Z",
     "start_time": "2023-05-15T14:38:19.423379Z"
    },
    "id": "AlXv7IWgV2ks"
   },
   "outputs": [
    {
     "data": {
      "text/html": [
       "<div>\n",
       "<style scoped>\n",
       "    .dataframe tbody tr th:only-of-type {\n",
       "        vertical-align: middle;\n",
       "    }\n",
       "\n",
       "    .dataframe tbody tr th {\n",
       "        vertical-align: top;\n",
       "    }\n",
       "\n",
       "    .dataframe thead th {\n",
       "        text-align: right;\n",
       "    }\n",
       "</style>\n",
       "<table border=\"1\" class=\"dataframe\">\n",
       "  <thead>\n",
       "    <tr style=\"text-align: right;\">\n",
       "      <th></th>\n",
       "      <th>test_rmse</th>\n",
       "      <th>fit_time</th>\n",
       "      <th>test_time</th>\n",
       "    </tr>\n",
       "    <tr>\n",
       "      <th>Algorithm</th>\n",
       "      <th></th>\n",
       "      <th></th>\n",
       "      <th></th>\n",
       "    </tr>\n",
       "  </thead>\n",
       "  <tbody>\n",
       "    <tr>\n",
       "      <th>SlopeOne</th>\n",
       "      <td>0.732689</td>\n",
       "      <td>0.332181</td>\n",
       "      <td>0.088757</td>\n",
       "    </tr>\n",
       "    <tr>\n",
       "      <th>NMF</th>\n",
       "      <td>0.778630</td>\n",
       "      <td>2.605758</td>\n",
       "      <td>0.060003</td>\n",
       "    </tr>\n",
       "  </tbody>\n",
       "</table>\n",
       "</div>"
      ],
      "text/plain": [
       "           test_rmse  fit_time  test_time\n",
       "Algorithm                                \n",
       "SlopeOne    0.732689  0.332181   0.088757\n",
       "NMF         0.778630  2.605758   0.060003"
      ]
     },
     "execution_count": 10,
     "metadata": {},
     "output_type": "execute_result"
    }
   ],
   "source": [
    "results = pd.DataFrame(benchmark).set_index('Algorithm').sort_values('test_rmse')\n",
    "results"
   ]
  }
 ],
 "metadata": {
  "colab": {
   "provenance": []
  },
  "kernelspec": {
   "display_name": "Python 3 (ipykernel)",
   "language": "python",
   "name": "python3"
  },
  "language_info": {
   "codemirror_mode": {
    "name": "ipython",
    "version": 3
   },
   "file_extension": ".py",
   "mimetype": "text/x-python",
   "name": "python",
   "nbconvert_exporter": "python",
   "pygments_lexer": "ipython3",
   "version": "3.9.12"
  },
  "vscode": {
   "interpreter": {
    "hash": "26de051ba29f2982a8de78e945f0abaf191376122a1563185a90213a26c5da77"
   }
  }
 },
 "nbformat": 4,
 "nbformat_minor": 1
}
